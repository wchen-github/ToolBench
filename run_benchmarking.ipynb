{
 "cells": [
  {
   "cell_type": "code",
   "execution_count": null,
   "metadata": {},
   "outputs": [],
   "source": [
    "# azureml-core of version 1.0.72 or higher is required \n",
    "from azureml.core import Workspace, Dataset \n",
    "subscription_id = '3f2ab3f5-468d-4ba7-bc14-9d3a9da4bcc5' \n",
    "resource_group = 'TownsendAML4' \n",
    "workspace_name = 'townsendws4' \n",
    "workspace = Workspace(subscription_id, resource_group, workspace_name) \n",
    "dataset = Dataset.get_by_name(workspace, name='orca3_ckpt_4000') \n",
    "dataset.download(target_path='../orca3/orca3_ckpt_4000', overwrite=False)"
   ]
  },
  {
   "cell_type": "code",
   "execution_count": null,
   "metadata": {},
   "outputs": [],
   "source": [
    "#use orca_training env\n",
    "# azureml-core of version 1.0.72 or higher is required\n",
    "\n",
    "from azureml.core import Workspace, Dataset\n",
    "subscription_id = '3f2ab3f5-468d-4ba7-bc14-9d3a9da4bcc5'\n",
    "resource_group = 'TownsendAML4'\n",
    "workspace_name = 'townsendws4'\n",
    " \n",
    "workspace = Workspace(subscription_id, resource_group, workspace_name)\n",
    " \n",
    "dataset = Dataset.get_by_name(workspace, name='orca3_v2_epoch_2')\n",
    "dataset.download(target_path='../orca3/orca3_v2_epoch_2', overwrite=False)\n"
   ]
  },
  {
   "cell_type": "code",
   "execution_count": 16,
   "metadata": {},
   "outputs": [],
   "source": [
    "import sys\n",
    "sys.path.insert(0, '/home/wchen/repos/ToolBench/')\n",
    "\n",
    "from toolbench.inference.Prompts.ReAct_prompts import FORMAT_INSTRUCTIONS_SYSTEM_FUNCTION\n",
    "from toolbench.utils import process_system_message\n",
    "\n",
    "prompt = process_system_message(FORMAT_INSTRUCTIONS_SYSTEM_FUNCTION, '{api_description}')\n",
    "with open('/home/wchen/repos/scratch/prompt.txt', 'w') as file:\n",
    "    file.write(prompt)\n",
    "\n"
   ]
  }
 ],
 "metadata": {
  "kernelspec": {
   "display_name": "tooleval_env",
   "language": "python",
   "name": "python3"
  },
  "language_info": {
   "codemirror_mode": {
    "name": "ipython",
    "version": 3
   },
   "file_extension": ".py",
   "mimetype": "text/x-python",
   "name": "python",
   "nbconvert_exporter": "python",
   "pygments_lexer": "ipython3",
   "version": "3.11.9"
  }
 },
 "nbformat": 4,
 "nbformat_minor": 2
}
